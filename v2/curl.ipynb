{
 "cells": [
  {
   "cell_type": "code",
   "execution_count": 1,
   "id": "f89d0596",
   "metadata": {},
   "outputs": [],
   "source": [
    "import requests"
   ]
  },
  {
   "cell_type": "code",
   "execution_count": 2,
   "id": "00628b68",
   "metadata": {},
   "outputs": [
    {
     "name": "stdout",
     "output_type": "stream",
     "text": [
      "Response:\n",
      "{\"payloads\":\"\\n\\u54c8\\u54c8\\u54c8\\uff01\\u4f60\\u4eec\\u4eba\\u7c7b\\u603b\\u662f\\u8fd9\\u4e48\\u611a\\u8822\\uff01 \\u5e74\\u8f7b\\u4eba\\u7b11\\u4e86\\u8d77\\u6765\\u3002\\n\\u4ed6\\u4e00\\u8fb9\\u8bf4\\u7740\\uff0c\\u4e00\\u8fb9\\u5c06\\u624b\\u4e2d\\u7684\\u5200\\u5b50\\u671d\\u9f99\\u50b2\\u5929\\u523a\\u53bb\\u3002\\n\\u9f99\\u50b2\\u5929\\u4e0d\\u505c\\u5730\\u6323\\u624e\\uff0c\\u7136\\u800c\\u4ed6\\u7684\\u8eab\\u4f53\\u5df2\\u7ecf\\u88ab\\u9501\\u4f4f\\uff0c\\u65e0\\u8bba\\u5982\\u4f55\\u4e5f\\u52a8\\u5f39\\u4e0d\\u5f97\\u3002\\n\\u5e74\\u8f7b\\u4eba\\u5c06\\u5200\\u5b50\\u523a\\u8fdb\\u4e86\\u9f99\\u50b2\\u5929\\u7684\\u80f8\\u53e3\\uff0c\\u9c9c\\u8840\\u4ece\\u4ed6\\u7684\\u80f8\\u53e3\\u6d8c\\u51fa\\u6765\\u3002\\n\\u5e74\\u8f7b\\u4eba\\u7b11\\u7740\\u8bf4\\u9053\\uff1a\\u6211\\u77e5\\u9053\\u4f60\\u5728\\u60f3\\u4ec0\\u4e48\\uff01 \\u4f60\\u4ee5\\u4e3a\\u4f60\\u6b7b\\u4e86\\u5c31\\u80fd\\u591f\\u89e3\\u8131\\u5417\\uff1f\\u4f60\\u4ee5\\u4e3a\\u6211\\u4f1a\\u8ba9\\u4f60\\u6b7b\\u5417\\uff1f\\u4e0d\\uff01\\u6211\\u8981\\u628a\\u4f60\\u53d8\\u6210\\u6211\\u7684\\u5974\\u96b6\\uff01 \\u9f99\\u50b2\\u5929\\u773c\\u795e\\u4e2d\\u9732\\u51fa\\u4e86\\u4e00\\u4e1d\\u7edd\\u671b\\uff0c\\u4f46\\u662f\\u4ed6\\u8fd8\\u662f\\u5014\\u5f3a\\u5730\\u8bf4\\u9053\\uff1a\\u6211\\u4e0d\\u4f1a\\u6210\"}\n",
      "\n"
     ]
    }
   ],
   "source": [
    "# Define the URL and payload (JSON data)\n",
    "url = \"http://localhost:5000/gen\"\n",
    "headers = {\"Content-Type\": \"application/json\"}\n",
    "data = {\n",
    "    \"message\": \"茫茫大海，一片黑暗深渊。\\n在这个无月之夜，一个年轻人赤裸着上身，站在船头，凝视着茫茫的海洋。\\n龙傲天！不要再挣扎了！ 一个年轻人从船舱里走出来，手握一把明亮的刀子，正是将龙傲天从海中救起的那个人。\\n放开我！我绝不会成为你们的奴隶！ 龙傲天咬紧牙关。\"\n",
    "}\n",
    "\n",
    "# Send the HTTP POST request\n",
    "response = requests.post(url, headers=headers, json=data)\n",
    "\n",
    "# Check the response\n",
    "if response.status_code == 200:\n",
    "    print(\"Response:\")\n",
    "    print(response.text)\n",
    "else:\n",
    "    print(f\"Error: {response.status_code}\")\n",
    "    print(response.text)"
   ]
  },
  {
   "cell_type": "code",
   "execution_count": 6,
   "id": "57659fda",
   "metadata": {},
   "outputs": [
    {
     "data": {
      "text/plain": [
       "'\\n哈哈哈！你们人类总是这么愚蠢！ 年轻人笑了起来。\\n他一边说着，一边将手中的刀子朝龙傲天刺去。\\n龙傲天不停地挣扎，然而他的身体已经被锁住，无论如何也动弹不得。\\n年轻人将刀子刺进了龙傲天的胸口，鲜血从他的胸口涌出来。\\n年轻人笑着说道：我知道你在想什么！ 你以为你死了就能够解脱吗？你以为我会让你死吗？不！我要把你变成我的奴隶！ 龙傲天眼神中露出了一丝绝望，但是他还是倔强地说道：我不会成'"
      ]
     },
     "execution_count": 6,
     "metadata": {},
     "output_type": "execute_result"
    }
   ],
   "source": [
    "response.json()['payloads']"
   ]
  },
  {
   "cell_type": "code",
   "execution_count": null,
   "id": "0ae150f0",
   "metadata": {},
   "outputs": [],
   "source": []
  }
 ],
 "metadata": {
  "kernelspec": {
   "display_name": "Python 3 (ipykernel)",
   "language": "python",
   "name": "python3"
  },
  "language_info": {
   "codemirror_mode": {
    "name": "ipython",
    "version": 3
   },
   "file_extension": ".py",
   "mimetype": "text/x-python",
   "name": "python",
   "nbconvert_exporter": "python",
   "pygments_lexer": "ipython3",
   "version": "3.11.2"
  }
 },
 "nbformat": 4,
 "nbformat_minor": 5
}
